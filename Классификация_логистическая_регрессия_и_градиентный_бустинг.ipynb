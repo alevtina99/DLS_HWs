{
  "nbformat": 4,
  "nbformat_minor": 0,
  "metadata": {
    "kernelspec": {
      "display_name": "Python 3",
      "language": "python",
      "name": "python3"
    },
    "language_info": {
      "codemirror_mode": {
        "name": "ipython",
        "version": 3
      },
      "file_extension": ".py",
      "mimetype": "text/x-python",
      "name": "python",
      "nbconvert_exporter": "python",
      "pygments_lexer": "ipython3",
      "version": "3.7.4"
    },
    "colab": {
      "provenance": []
    }
  },
  "cells": [
    {
      "cell_type": "markdown",
      "metadata": {
        "id": "IrDNNkNTEEYz"
      },
      "source": [
        "# Первая часть. Исследование"
      ]
    },
    {
      "cell_type": "code",
      "metadata": {
        "id": "lzLqEeZKEEYz"
      },
      "source": [
        "import pandas as pd\n",
        "import numpy as np\n",
        "from matplotlib import pyplot as plt\n",
        "import seaborn as sns\n",
        "\n",
        "from sklearn.metrics import roc_auc_score"
      ],
      "execution_count": null,
      "outputs": []
    },
    {
      "cell_type": "markdown",
      "metadata": {
        "id": "LOlxdURSEEY3"
      },
      "source": [
        "## Загрузка данных (2 балла)\n",
        "\n",
        "Задание:\n",
        "\n",
        "1) Посмотрите на случайные строчки.\n",
        "\n",
        "2) Посмотрите, есть ли в датасете незаполненные значения (nan'ы) с помощью data.isna() или data.info() и, если нужно, замените их на что-то. Будет хорошо, если вы построите табличку с количеством nan в каждой колонке."
      ]
    },
    {
      "cell_type": "code",
      "metadata": {
        "id": "pw-Brue9EEY3"
      },
      "source": [
        "data = pd.read_csv('./train.csv')"
      ],
      "execution_count": null,
      "outputs": []
    },
    {
      "cell_type": "code",
      "metadata": {
        "id": "KgnkkF5bEEY9"
      },
      "source": [
        "# Числовые признаки\n",
        "num_cols = [\n",
        "    'ClientPeriod',\n",
        "    'MonthlySpending',\n",
        "    'TotalSpent'\n",
        "]\n",
        "\n",
        "# Категориальные признаки\n",
        "cat_cols = [\n",
        "    'Sex',\n",
        "    'IsSeniorCitizen',\n",
        "    'HasPartner',\n",
        "    'HasChild',\n",
        "    'HasPhoneService',\n",
        "    'HasMultiplePhoneNumbers',\n",
        "    'HasInternetService',\n",
        "    'HasOnlineSecurityService',\n",
        "    'HasOnlineBackup',\n",
        "    'HasDeviceProtection',\n",
        "    'HasTechSupportAccess',\n",
        "    'HasOnlineTV',\n",
        "    'HasMovieSubscription',\n",
        "    'HasContractPhone',\n",
        "    'IsBillingPaperless',\n",
        "    'PaymentMethod'\n",
        "]\n",
        "\n",
        "feature_cols = num_cols + cat_cols\n",
        "target_col = 'Churn'"
      ],
      "execution_count": null,
      "outputs": []
    },
    {
      "cell_type": "markdown",
      "source": [
        "Посмотрим на пять случайных строчек датасета:"
      ],
      "metadata": {
        "id": "Xibk8GDfWuZe"
      }
    },
    {
      "cell_type": "code",
      "metadata": {
        "id": "tHC6gWabEEZA",
        "colab": {
          "base_uri": "https://localhost:8080/",
          "height": 305
        },
        "outputId": "821407cf-e3ff-4f7a-e2fc-073e45e63cce"
      },
      "source": [
        "data.sample(n = 5)"
      ],
      "execution_count": null,
      "outputs": [
        {
          "output_type": "execute_result",
          "data": {
            "text/plain": [
              "      ClientPeriod  MonthlySpending TotalSpent     Sex  IsSeniorCitizen  \\\n",
              "672             60            79.05     4663.4    Male                0   \n",
              "1813            34            85.35     2896.6  Female                0   \n",
              "1654             3            55.30     196.15  Female                0   \n",
              "3802            61            88.65    5321.25  Female                0   \n",
              "1236             1            45.30       45.3    Male                0   \n",
              "\n",
              "     HasPartner HasChild HasPhoneService HasMultiplePhoneNumbers  \\\n",
              "672         Yes      Yes             Yes                      No   \n",
              "1813         No       No             Yes                     Yes   \n",
              "1654         No       No             Yes                      No   \n",
              "3802         No       No             Yes                     Yes   \n",
              "1236         No       No             Yes                      No   \n",
              "\n",
              "     HasInternetService HasOnlineSecurityService HasOnlineBackup  \\\n",
              "672                 DSL                      Yes             Yes   \n",
              "1813        Fiber optic                       No              No   \n",
              "1654                DSL                       No              No   \n",
              "3802                DSL                       No             Yes   \n",
              "1236                DSL                       No              No   \n",
              "\n",
              "     HasDeviceProtection HasTechSupportAccess HasOnlineTV  \\\n",
              "672                   No                  Yes         Yes   \n",
              "1813                  No                   No         Yes   \n",
              "1654                  No                   No          No   \n",
              "3802                 Yes                  Yes         Yes   \n",
              "1236                  No                   No          No   \n",
              "\n",
              "     HasMovieSubscription HasContractPhone IsBillingPaperless  \\\n",
              "672                   Yes   Month-to-month                Yes   \n",
              "1813                   No   Month-to-month                 No   \n",
              "1654                  Yes   Month-to-month                Yes   \n",
              "3802                  Yes         Two year                 No   \n",
              "1236                   No   Month-to-month                 No   \n",
              "\n",
              "                PaymentMethod  Churn  \n",
              "672   Credit card (automatic)      0  \n",
              "1813         Electronic check      0  \n",
              "1654         Electronic check      1  \n",
              "3802  Credit card (automatic)      0  \n",
              "1236         Electronic check      1  "
            ],
            "text/html": [
              "\n",
              "  <div id=\"df-23710262-4094-4a09-8b4e-7c114d13e002\">\n",
              "    <div class=\"colab-df-container\">\n",
              "      <div>\n",
              "<style scoped>\n",
              "    .dataframe tbody tr th:only-of-type {\n",
              "        vertical-align: middle;\n",
              "    }\n",
              "\n",
              "    .dataframe tbody tr th {\n",
              "        vertical-align: top;\n",
              "    }\n",
              "\n",
              "    .dataframe thead th {\n",
              "        text-align: right;\n",
              "    }\n",
              "</style>\n",
              "<table border=\"1\" class=\"dataframe\">\n",
              "  <thead>\n",
              "    <tr style=\"text-align: right;\">\n",
              "      <th></th>\n",
              "      <th>ClientPeriod</th>\n",
              "      <th>MonthlySpending</th>\n",
              "      <th>TotalSpent</th>\n",
              "      <th>Sex</th>\n",
              "      <th>IsSeniorCitizen</th>\n",
              "      <th>HasPartner</th>\n",
              "      <th>HasChild</th>\n",
              "      <th>HasPhoneService</th>\n",
              "      <th>HasMultiplePhoneNumbers</th>\n",
              "      <th>HasInternetService</th>\n",
              "      <th>HasOnlineSecurityService</th>\n",
              "      <th>HasOnlineBackup</th>\n",
              "      <th>HasDeviceProtection</th>\n",
              "      <th>HasTechSupportAccess</th>\n",
              "      <th>HasOnlineTV</th>\n",
              "      <th>HasMovieSubscription</th>\n",
              "      <th>HasContractPhone</th>\n",
              "      <th>IsBillingPaperless</th>\n",
              "      <th>PaymentMethod</th>\n",
              "      <th>Churn</th>\n",
              "    </tr>\n",
              "  </thead>\n",
              "  <tbody>\n",
              "    <tr>\n",
              "      <th>672</th>\n",
              "      <td>60</td>\n",
              "      <td>79.05</td>\n",
              "      <td>4663.4</td>\n",
              "      <td>Male</td>\n",
              "      <td>0</td>\n",
              "      <td>Yes</td>\n",
              "      <td>Yes</td>\n",
              "      <td>Yes</td>\n",
              "      <td>No</td>\n",
              "      <td>DSL</td>\n",
              "      <td>Yes</td>\n",
              "      <td>Yes</td>\n",
              "      <td>No</td>\n",
              "      <td>Yes</td>\n",
              "      <td>Yes</td>\n",
              "      <td>Yes</td>\n",
              "      <td>Month-to-month</td>\n",
              "      <td>Yes</td>\n",
              "      <td>Credit card (automatic)</td>\n",
              "      <td>0</td>\n",
              "    </tr>\n",
              "    <tr>\n",
              "      <th>1813</th>\n",
              "      <td>34</td>\n",
              "      <td>85.35</td>\n",
              "      <td>2896.6</td>\n",
              "      <td>Female</td>\n",
              "      <td>0</td>\n",
              "      <td>No</td>\n",
              "      <td>No</td>\n",
              "      <td>Yes</td>\n",
              "      <td>Yes</td>\n",
              "      <td>Fiber optic</td>\n",
              "      <td>No</td>\n",
              "      <td>No</td>\n",
              "      <td>No</td>\n",
              "      <td>No</td>\n",
              "      <td>Yes</td>\n",
              "      <td>No</td>\n",
              "      <td>Month-to-month</td>\n",
              "      <td>No</td>\n",
              "      <td>Electronic check</td>\n",
              "      <td>0</td>\n",
              "    </tr>\n",
              "    <tr>\n",
              "      <th>1654</th>\n",
              "      <td>3</td>\n",
              "      <td>55.30</td>\n",
              "      <td>196.15</td>\n",
              "      <td>Female</td>\n",
              "      <td>0</td>\n",
              "      <td>No</td>\n",
              "      <td>No</td>\n",
              "      <td>Yes</td>\n",
              "      <td>No</td>\n",
              "      <td>DSL</td>\n",
              "      <td>No</td>\n",
              "      <td>No</td>\n",
              "      <td>No</td>\n",
              "      <td>No</td>\n",
              "      <td>No</td>\n",
              "      <td>Yes</td>\n",
              "      <td>Month-to-month</td>\n",
              "      <td>Yes</td>\n",
              "      <td>Electronic check</td>\n",
              "      <td>1</td>\n",
              "    </tr>\n",
              "    <tr>\n",
              "      <th>3802</th>\n",
              "      <td>61</td>\n",
              "      <td>88.65</td>\n",
              "      <td>5321.25</td>\n",
              "      <td>Female</td>\n",
              "      <td>0</td>\n",
              "      <td>No</td>\n",
              "      <td>No</td>\n",
              "      <td>Yes</td>\n",
              "      <td>Yes</td>\n",
              "      <td>DSL</td>\n",
              "      <td>No</td>\n",
              "      <td>Yes</td>\n",
              "      <td>Yes</td>\n",
              "      <td>Yes</td>\n",
              "      <td>Yes</td>\n",
              "      <td>Yes</td>\n",
              "      <td>Two year</td>\n",
              "      <td>No</td>\n",
              "      <td>Credit card (automatic)</td>\n",
              "      <td>0</td>\n",
              "    </tr>\n",
              "    <tr>\n",
              "      <th>1236</th>\n",
              "      <td>1</td>\n",
              "      <td>45.30</td>\n",
              "      <td>45.3</td>\n",
              "      <td>Male</td>\n",
              "      <td>0</td>\n",
              "      <td>No</td>\n",
              "      <td>No</td>\n",
              "      <td>Yes</td>\n",
              "      <td>No</td>\n",
              "      <td>DSL</td>\n",
              "      <td>No</td>\n",
              "      <td>No</td>\n",
              "      <td>No</td>\n",
              "      <td>No</td>\n",
              "      <td>No</td>\n",
              "      <td>No</td>\n",
              "      <td>Month-to-month</td>\n",
              "      <td>No</td>\n",
              "      <td>Electronic check</td>\n",
              "      <td>1</td>\n",
              "    </tr>\n",
              "  </tbody>\n",
              "</table>\n",
              "</div>\n",
              "      <button class=\"colab-df-convert\" onclick=\"convertToInteractive('df-23710262-4094-4a09-8b4e-7c114d13e002')\"\n",
              "              title=\"Convert this dataframe to an interactive table.\"\n",
              "              style=\"display:none;\">\n",
              "        \n",
              "  <svg xmlns=\"http://www.w3.org/2000/svg\" height=\"24px\"viewBox=\"0 0 24 24\"\n",
              "       width=\"24px\">\n",
              "    <path d=\"M0 0h24v24H0V0z\" fill=\"none\"/>\n",
              "    <path d=\"M18.56 5.44l.94 2.06.94-2.06 2.06-.94-2.06-.94-.94-2.06-.94 2.06-2.06.94zm-11 1L8.5 8.5l.94-2.06 2.06-.94-2.06-.94L8.5 2.5l-.94 2.06-2.06.94zm10 10l.94 2.06.94-2.06 2.06-.94-2.06-.94-.94-2.06-.94 2.06-2.06.94z\"/><path d=\"M17.41 7.96l-1.37-1.37c-.4-.4-.92-.59-1.43-.59-.52 0-1.04.2-1.43.59L10.3 9.45l-7.72 7.72c-.78.78-.78 2.05 0 2.83L4 21.41c.39.39.9.59 1.41.59.51 0 1.02-.2 1.41-.59l7.78-7.78 2.81-2.81c.8-.78.8-2.07 0-2.86zM5.41 20L4 18.59l7.72-7.72 1.47 1.35L5.41 20z\"/>\n",
              "  </svg>\n",
              "      </button>\n",
              "      \n",
              "  <style>\n",
              "    .colab-df-container {\n",
              "      display:flex;\n",
              "      flex-wrap:wrap;\n",
              "      gap: 12px;\n",
              "    }\n",
              "\n",
              "    .colab-df-convert {\n",
              "      background-color: #E8F0FE;\n",
              "      border: none;\n",
              "      border-radius: 50%;\n",
              "      cursor: pointer;\n",
              "      display: none;\n",
              "      fill: #1967D2;\n",
              "      height: 32px;\n",
              "      padding: 0 0 0 0;\n",
              "      width: 32px;\n",
              "    }\n",
              "\n",
              "    .colab-df-convert:hover {\n",
              "      background-color: #E2EBFA;\n",
              "      box-shadow: 0px 1px 2px rgba(60, 64, 67, 0.3), 0px 1px 3px 1px rgba(60, 64, 67, 0.15);\n",
              "      fill: #174EA6;\n",
              "    }\n",
              "\n",
              "    [theme=dark] .colab-df-convert {\n",
              "      background-color: #3B4455;\n",
              "      fill: #D2E3FC;\n",
              "    }\n",
              "\n",
              "    [theme=dark] .colab-df-convert:hover {\n",
              "      background-color: #434B5C;\n",
              "      box-shadow: 0px 1px 3px 1px rgba(0, 0, 0, 0.15);\n",
              "      filter: drop-shadow(0px 1px 2px rgba(0, 0, 0, 0.3));\n",
              "      fill: #FFFFFF;\n",
              "    }\n",
              "  </style>\n",
              "\n",
              "      <script>\n",
              "        const buttonEl =\n",
              "          document.querySelector('#df-23710262-4094-4a09-8b4e-7c114d13e002 button.colab-df-convert');\n",
              "        buttonEl.style.display =\n",
              "          google.colab.kernel.accessAllowed ? 'block' : 'none';\n",
              "\n",
              "        async function convertToInteractive(key) {\n",
              "          const element = document.querySelector('#df-23710262-4094-4a09-8b4e-7c114d13e002');\n",
              "          const dataTable =\n",
              "            await google.colab.kernel.invokeFunction('convertToInteractive',\n",
              "                                                     [key], {});\n",
              "          if (!dataTable) return;\n",
              "\n",
              "          const docLinkHtml = 'Like what you see? Visit the ' +\n",
              "            '<a target=\"_blank\" href=https://colab.research.google.com/notebooks/data_table.ipynb>data table notebook</a>'\n",
              "            + ' to learn more about interactive tables.';\n",
              "          element.innerHTML = '';\n",
              "          dataTable['output_type'] = 'display_data';\n",
              "          await google.colab.output.renderOutput(dataTable, element);\n",
              "          const docLink = document.createElement('div');\n",
              "          docLink.innerHTML = docLinkHtml;\n",
              "          element.appendChild(docLink);\n",
              "        }\n",
              "      </script>\n",
              "    </div>\n",
              "  </div>\n",
              "  "
            ]
          },
          "metadata": {},
          "execution_count": 4
        }
      ]
    },
    {
      "cell_type": "markdown",
      "source": [
        "Посмотрим на уникальные значения каждой колонки нашего датасета:"
      ],
      "metadata": {
        "id": "zX0zaH32ZB55"
      }
    },
    {
      "cell_type": "code",
      "source": [
        "for i in feature_cols:\n",
        "  print(f'{i}: {data[i].unique()}')"
      ],
      "metadata": {
        "colab": {
          "base_uri": "https://localhost:8080/"
        },
        "id": "83W45fR8X4OI",
        "outputId": "72c54500-6e49-4b88-b1fb-aca411be7f59"
      },
      "execution_count": null,
      "outputs": [
        {
          "output_type": "stream",
          "name": "stdout",
          "text": [
            "ClientPeriod: [55 72  1 32 60 25 27 50 16 70 69 26 38 30 52 71 59 61  7 20 48 22  2 21\n",
            " 44 66 58 46 45  5  4  3 62  6 39 68 51 40 10 43 12 35 31 67  8 11 29 37\n",
            " 33 14 15 47 23 65 13 41 53  9 64 42 34 17 18 63 56 54 24 28 49 19 57 36\n",
            "  0]\n",
            "MonthlySpending: [ 19.5   25.85  75.9  ... 112.25 117.5   98.2 ]\n",
            "TotalSpent: ['1026.35' '1872.2' '75.9' ... '55.05' '2215.25' '1375.6']\n",
            "Sex: ['Male' 'Female']\n",
            "IsSeniorCitizen: [0 1]\n",
            "HasPartner: ['Yes' 'No']\n",
            "HasChild: ['Yes' 'No']\n",
            "HasPhoneService: ['Yes' 'No']\n",
            "HasMultiplePhoneNumbers: ['No' 'Yes' 'No phone service']\n",
            "HasInternetService: ['No' 'Fiber optic' 'DSL']\n",
            "HasOnlineSecurityService: ['No internet service' 'No' 'Yes']\n",
            "HasOnlineBackup: ['No internet service' 'No' 'Yes']\n",
            "HasDeviceProtection: ['No internet service' 'No' 'Yes']\n",
            "HasTechSupportAccess: ['No internet service' 'Yes' 'No']\n",
            "HasOnlineTV: ['No internet service' 'No' 'Yes']\n",
            "HasMovieSubscription: ['No internet service' 'No' 'Yes']\n",
            "HasContractPhone: ['One year' 'Two year' 'Month-to-month']\n",
            "IsBillingPaperless: ['No' 'Yes']\n",
            "PaymentMethod: ['Mailed check' 'Credit card (automatic)' 'Electronic check'\n",
            " 'Bank transfer (automatic)']\n"
          ]
        }
      ]
    },
    {
      "cell_type": "markdown",
      "source": [
        "Мы видим, что данные стоит обработать:\n",
        "\n",
        "\n",
        "1.   TotalSpent имеет строковый тип данных, необходимо перевести в числовой, float\n",
        "2.   Sex, HasPartner, HasChild, HasPhoneService, IsBillingPaperless можно легко перевести в числовые признаки, не задействуя one-hot encoding\n",
        "\n"
      ],
      "metadata": {
        "id": "OtqC2FrIZOUu"
      }
    },
    {
      "cell_type": "code",
      "source": [
        "# изменим тип данных TotalSpent:\n",
        "data.TotalSpent= pd.to_numeric(data.TotalSpent, errors='coerce')\n",
        "\n",
        "# переведем колонки из пункта 2 в числовые признаки:\n",
        "data = data.replace({'Sex': {'Female': 1, 'Male': 0}})\n",
        "for i in ['HasPartner', 'HasChild', 'HasPhoneService', 'IsBillingPaperless']:\n",
        "  data = data.replace({i: {'Yes': 1, 'No': 0}})"
      ],
      "metadata": {
        "id": "PRu1Cr_AaJhw"
      },
      "execution_count": null,
      "outputs": []
    },
    {
      "cell_type": "markdown",
      "source": [
        "Посмотрим, есть ли в датасете NaNs (пропущенные значения):"
      ],
      "metadata": {
        "id": "oM6S9fz0XVjH"
      }
    },
    {
      "cell_type": "code",
      "source": [
        "data.isna().sum()"
      ],
      "metadata": {
        "colab": {
          "base_uri": "https://localhost:8080/"
        },
        "id": "Wt87_9zDW7dv",
        "outputId": "a92b8cc8-53f1-45ce-cfb7-6a9b6b7c046e"
      },
      "execution_count": null,
      "outputs": [
        {
          "output_type": "execute_result",
          "data": {
            "text/plain": [
              "ClientPeriod                0\n",
              "MonthlySpending             0\n",
              "TotalSpent                  9\n",
              "Sex                         0\n",
              "IsSeniorCitizen             0\n",
              "HasPartner                  0\n",
              "HasChild                    0\n",
              "HasPhoneService             0\n",
              "HasMultiplePhoneNumbers     0\n",
              "HasInternetService          0\n",
              "HasOnlineSecurityService    0\n",
              "HasOnlineBackup             0\n",
              "HasDeviceProtection         0\n",
              "HasTechSupportAccess        0\n",
              "HasOnlineTV                 0\n",
              "HasMovieSubscription        0\n",
              "HasContractPhone            0\n",
              "IsBillingPaperless          0\n",
              "PaymentMethod               0\n",
              "Churn                       0\n",
              "dtype: int64"
            ]
          },
          "metadata": {},
          "execution_count": 7
        }
      ]
    },
    {
      "cell_type": "markdown",
      "source": [
        "Пропущенных значений немного (9 штук), удалим их:"
      ],
      "metadata": {
        "id": "4nGqjBPbeEVe"
      }
    },
    {
      "cell_type": "code",
      "source": [
        "data = data.dropna()"
      ],
      "metadata": {
        "id": "q8DqEfm-eIb4"
      },
      "execution_count": null,
      "outputs": []
    },
    {
      "cell_type": "markdown",
      "metadata": {
        "id": "dK370bPCEEZD"
      },
      "source": [
        "## Анализ данных (3 балла)\n",
        "\n",
        "Задание:\n",
        "\n",
        "1) Для численных призанков постройте гистограмму (*plt.hist(...)*) или boxplot (*plt.boxplot(...)*). Для категориальных посчитайте количество каждого значения для каждого признака. Для каждой колонки надо сделать *data.value_counts()* и построить bar диаграммы *plt.bar(...)* или круговые диаграммы *plt.pie(...)* (хорошо, елси вы сможете это сделать на одном гарфике с помощью *plt.subplots(...)*).\n",
        "\n",
        "2) Посмотрите на распределение целевой переменной и скажите, являются ли классы несбалансированными.\n",
        "\n",
        "3) (Если будет желание) Поиграйте с разными библиотеками для визуализации - *sns*, *pandas_visual_analysis*, etc.\n",
        "\n",
        "Второй пункт очень важен, потому что существуют задачи классификации с несбалансированными классами. Например, это может значить, что в датасете намного больше примеров 0 класса. В таких случаях нужно 1) не использовать accuracy как метрику 2) использовать методы борьбы с imbalanced dataset (обычно если датасет сильно несбалансирован, т.е. класса 1 в 20 раз меньше класса 0)."
      ]
    },
    {
      "cell_type": "markdown",
      "source": [
        "Гистограммы для численных признаков:"
      ],
      "metadata": {
        "id": "xK_BxKJ4rI1d"
      }
    },
    {
      "cell_type": "code",
      "metadata": {
        "id": "NZkbgFJZEEZE",
        "colab": {
          "base_uri": "https://localhost:8080/",
          "height": 608
        },
        "outputId": "eee4c9b5-1979-4f43-f98e-b7f207a1a51a"
      },
      "source": [
        "data.hist(column=num_cols, figsize=(14, 10))\n",
        "None"
      ],
      "execution_count": null,
      "outputs": [
        {
          "output_type": "display_data",
          "data": {
            "text/plain": [
              "<Figure size 1008x720 with 4 Axes>"
            ],
            "image/png": "[encoded data removed]"
          },
          "metadata": {
            "needs_background": "light"
          }
        }
      ]
    },
    {
      "cell_type": "markdown",
      "source": [
        "Столбчатые диаграммы для категориальных:"
      ],
      "metadata": {
        "id": "qXzMrOo4rPST"
      }
    },
    {
      "cell_type": "code",
      "source": [
        "grid = np.linspace(-12, 12, 500)\n",
        "fig, ax = plt.subplots(4, 4, figsize=(18,18))\n",
        "ax = ax.ravel()\n",
        "\n",
        "for i, cat in enumerate(cat_cols):\n",
        "\n",
        "    ax[i].set_title(cat)\n",
        "    ax[i].bar(data[cat].value_counts().index,data[cat].value_counts())\n",
        "    plt.xticks(rotation=45)\n",
        "\n",
        "fig.show()\n"
      ],
      "metadata": {
        "colab": {
          "base_uri": "https://localhost:8080/",
          "height": 1000
        },
        "id": "32O_np-BlCT5",
        "outputId": "3c52151f-716c-48b0-ed80-a8077de3dfed"
      },
      "execution_count": null,
      "outputs": [
        {
          "output_type": "display_data",
          "data": {
            "text/plain": [
              "<Figure size 1296x1296 with 16 Axes>"
            ],
            "image/png": "[encoded data removed]"
          },
          "metadata": {
            "needs_background": "light"
          }
        }
      ]
    },
    {
      "cell_type": "markdown",
      "source": [
        "И посмотрим на распределение целевой переменной:"
      ],
      "metadata": {
        "id": "nsLgDHmnr8lZ"
      }
    },
    {
      "cell_type": "code",
      "source": [
        "sns.countplot(x='Churn', data=data)\n",
        "print(data.Churn.value_counts())"
      ],
      "metadata": {
        "colab": {
          "base_uri": "https://localhost:8080/",
          "height": 331
        },
        "id": "CeAigr9emJrR",
        "outputId": "0c54a891-78b9-442c-d2c8-12218dcd1e48"
      },
      "execution_count": null,
      "outputs": [
        {
          "output_type": "stream",
          "name": "stdout",
          "text": [
            "0    3889\n",
            "1    1384\n",
            "Name: Churn, dtype: int64\n"
          ]
        },
        {
          "output_type": "display_data",
          "data": {
            "text/plain": [
              "<Figure size 432x288 with 1 Axes>"
            ],
            "image/png": "[encoded data removed]"
          },
          "metadata": {
            "needs_background": "light"
          }
        }
      ]
    },
    {
      "cell_type": "markdown",
      "source": [
        "Классы являются несбалансированными: объектов нулевого класса в 2.8 раз больше объектов первого."
      ],
      "metadata": {
        "id": "fxUhaz7QsBt5"
      }
    },
    {
      "cell_type": "markdown",
      "metadata": {
        "id": "DviiJd8REEZK"
      },
      "source": [
        "## Применение линейных моделей (3 балла)\n",
        "\n",
        "1) Обработайте данные для того, чтобы к ним можно было применить LogisticRegression. Т.е. отнормируйте числовые признаки, а категориальные закодируйте с помощью one-hot-encoding'а.\n",
        "\n",
        "2) С помощью кроссвалидации или разделения на train/valid выборку протестируйте разные значения гиперпараметра C и выберите лучший (можно тестировать С=100, 10, 1, 0.1, 0.01, 0.001) по метрике ROC-AUC.\n",
        "\n",
        "Если вы разделяете на train/valid, то используйте LogisticRegressionCV. Он сам при вызове .fit() подберет параметр С. (не забудьте передать scroing='roc_auc', чтобы при кроссвалидации сравнивались значения этой метрики, и refit=True, чтобы при потом модель обучилась на всем датасете с лучшим параметром C).\n",
        "\n",
        "\n",
        "(более сложный вариант) Если вы будете использовать кроссвалидацию, то преобразования данных и LogisticRegression нужно соединить в один Pipeline с помощью make_pipeline, как это делалось во втором семинаре. Потом pipeline надо передать в GridSearchCV. Для one-hot-encoding'a можно испльзовать комбинацию LabelEncoder + OneHotEncoder (сначала превращаем строчки в числа, а потом числа првращаем в one-hot вектора.)"
      ]
    },
    {
      "cell_type": "code",
      "metadata": {
        "id": "xHCLDmwqEEZL"
      },
      "source": [
        "from sklearn.linear_model import LogisticRegression, LogisticRegressionCV\n",
        "from sklearn.model_selection import train_test_split, GridSearchCV\n",
        "from sklearn.preprocessing import StandardScaler, RobustScaler, LabelEncoder, OneHotEncoder\n",
        "from sklearn.pipeline import make_pipeline"
      ],
      "execution_count": null,
      "outputs": []
    },
    {
      "cell_type": "markdown",
      "source": [
        "Применим one-hot encoding к категориальным признакам. Нормализацию с помощью StandardScaler реализуем уже после разбиения на test/vaild, чтобы избежать утечки данных:"
      ],
      "metadata": {
        "id": "d-YfsJjSt1lo"
      }
    },
    {
      "cell_type": "code",
      "source": [
        "dummy_features = pd.get_dummies(data[cat_cols])\n",
        "X = pd.concat([data[num_cols], dummy_features], axis=1)"
      ],
      "metadata": {
        "id": "Vg_cixDjt58Y"
      },
      "execution_count": null,
      "outputs": []
    },
    {
      "cell_type": "markdown",
      "source": [
        "То, что мы сами перекодировали в 0 и 1 во втором шаге, останется неизменным, все хорошо:"
      ],
      "metadata": {
        "id": "lNuE-sqLuxlr"
      }
    },
    {
      "cell_type": "code",
      "source": [
        "dummy_features.head()"
      ],
      "metadata": {
        "colab": {
          "base_uri": "https://localhost:8080/",
          "height": 334
        },
        "id": "nN45fMM7uqlF",
        "outputId": "c5c0b7af-8965-4a02-e958-180c77b9c007"
      },
      "execution_count": null,
      "outputs": [
        {
          "output_type": "execute_result",
          "data": {
            "text/plain": [
              "   Sex  IsSeniorCitizen  HasPartner  HasChild  HasPhoneService  \\\n",
              "0    0                0           1         1                1   \n",
              "1    0                0           1         0                1   \n",
              "2    0                0           0         0                1   \n",
              "3    1                1           1         0                1   \n",
              "4    1                0           1         1                1   \n",
              "\n",
              "   IsBillingPaperless  HasMultiplePhoneNumbers_No  \\\n",
              "0                   0                           1   \n",
              "1                   0                           0   \n",
              "2                   1                           1   \n",
              "3                   0                           0   \n",
              "4                   0                           0   \n",
              "\n",
              "   HasMultiplePhoneNumbers_No phone service  HasMultiplePhoneNumbers_Yes  \\\n",
              "0                                         0                            0   \n",
              "1                                         0                            1   \n",
              "2                                         0                            0   \n",
              "3                                         0                            1   \n",
              "4                                         0                            1   \n",
              "\n",
              "   HasInternetService_DSL  ...  HasMovieSubscription_No  \\\n",
              "0                       0  ...                        0   \n",
              "1                       0  ...                        0   \n",
              "2                       0  ...                        1   \n",
              "3                       0  ...                        1   \n",
              "4                       0  ...                        0   \n",
              "\n",
              "   HasMovieSubscription_No internet service  HasMovieSubscription_Yes  \\\n",
              "0                                         1                         0   \n",
              "1                                         1                         0   \n",
              "2                                         0                         0   \n",
              "3                                         0                         0   \n",
              "4                                         0                         1   \n",
              "\n",
              "   HasContractPhone_Month-to-month  HasContractPhone_One year  \\\n",
              "0                                0                          1   \n",
              "1                                0                          0   \n",
              "2                                1                          0   \n",
              "3                                1                          0   \n",
              "4                                0                          0   \n",
              "\n",
              "   HasContractPhone_Two year  PaymentMethod_Bank transfer (automatic)  \\\n",
              "0                          0                                        0   \n",
              "1                          1                                        0   \n",
              "2                          0                                        0   \n",
              "3                          0                                        0   \n",
              "4                          1                                        0   \n",
              "\n",
              "   PaymentMethod_Credit card (automatic)  PaymentMethod_Electronic check  \\\n",
              "0                                      0                               0   \n",
              "1                                      1                               0   \n",
              "2                                      0                               1   \n",
              "3                                      0                               0   \n",
              "4                                      1                               0   \n",
              "\n",
              "   PaymentMethod_Mailed check  \n",
              "0                           1  \n",
              "1                           0  \n",
              "2                           0  \n",
              "3                           1  \n",
              "4                           0  \n",
              "\n",
              "[5 rows x 37 columns]"
            ],
            "text/html": [
              "\n",
              "  <div id=\"df-9279526f-ad3a-41d4-9764-81aa30703a5e\">\n",
              "    <div class=\"colab-df-container\">\n",
              "      <div>\n",
              "<style scoped>\n",
              "    .dataframe tbody tr th:only-of-type {\n",
              "        vertical-align: middle;\n",
              "    }\n",
              "\n",
              "    .dataframe tbody tr th {\n",
              "        vertical-align: top;\n",
              "    }\n",
              "\n",
              "    .dataframe thead th {\n",
              "        text-align: right;\n",
              "    }\n",
              "</style>\n",
              "<table border=\"1\" class=\"dataframe\">\n",
              "  <thead>\n",
              "    <tr style=\"text-align: right;\">\n",
              "      <th></th>\n",
              "      <th>Sex</th>\n",
              "      <th>IsSeniorCitizen</th>\n",
              "      <th>HasPartner</th>\n",
              "      <th>HasChild</th>\n",
              "      <th>HasPhoneService</th>\n",
              "      <th>IsBillingPaperless</th>\n",
              "      <th>HasMultiplePhoneNumbers_No</th>\n",
              "      <th>HasMultiplePhoneNumbers_No phone service</th>\n",
              "      <th>HasMultiplePhoneNumbers_Yes</th>\n",
              "      <th>HasInternetService_DSL</th>\n",
              "      <th>...</th>\n",
              "      <th>HasMovieSubscription_No</th>\n",
              "      <th>HasMovieSubscription_No internet service</th>\n",
              "      <th>HasMovieSubscription_Yes</th>\n",
              "      <th>HasContractPhone_Month-to-month</th>\n",
              "      <th>HasContractPhone_One year</th>\n",
              "      <th>HasContractPhone_Two year</th>\n",
              "      <th>PaymentMethod_Bank transfer (automatic)</th>\n",
              "      <th>PaymentMethod_Credit card (automatic)</th>\n",
              "      <th>PaymentMethod_Electronic check</th>\n",
              "      <th>PaymentMethod_Mailed check</th>\n",
              "    </tr>\n",
              "  </thead>\n",
              "  <tbody>\n",
              "    <tr>\n",
              "      <th>0</th>\n",
              "      <td>0</td>\n",
              "      <td>0</td>\n",
              "      <td>1</td>\n",
              "      <td>1</td>\n",
              "      <td>1</td>\n",
              "      <td>0</td>\n",
              "      <td>1</td>\n",
              "      <td>0</td>\n",
              "      <td>0</td>\n",
              "      <td>0</td>\n",
              "      <td>...</td>\n",
              "      <td>0</td>\n",
              "      <td>1</td>\n",
              "      <td>0</td>\n",
              "      <td>0</td>\n",
              "      <td>1</td>\n",
              "      <td>0</td>\n",
              "      <td>0</td>\n",
              "      <td>0</td>\n",
              "      <td>0</td>\n",
              "      <td>1</td>\n",
              "    </tr>\n",
              "    <tr>\n",
              "      <th>1</th>\n",
              "      <td>0</td>\n",
              "      <td>0</td>\n",
              "      <td>1</td>\n",
              "      <td>0</td>\n",
              "      <td>1</td>\n",
              "      <td>0</td>\n",
              "      <td>0</td>\n",
              "      <td>0</td>\n",
              "      <td>1</td>\n",
              "      <td>0</td>\n",
              "      <td>...</td>\n",
              "      <td>0</td>\n",
              "      <td>1</td>\n",
              "      <td>0</td>\n",
              "      <td>0</td>\n",
              "      <td>0</td>\n",
              "      <td>1</td>\n",
              "      <td>0</td>\n",
              "      <td>1</td>\n",
              "      <td>0</td>\n",
              "      <td>0</td>\n",
              "    </tr>\n",
              "    <tr>\n",
              "      <th>2</th>\n",
              "      <td>0</td>\n",
              "      <td>0</td>\n",
              "      <td>0</td>\n",
              "      <td>0</td>\n",
              "      <td>1</td>\n",
              "      <td>1</td>\n",
              "      <td>1</td>\n",
              "      <td>0</td>\n",
              "      <td>0</td>\n",
              "      <td>0</td>\n",
              "      <td>...</td>\n",
              "      <td>1</td>\n",
              "      <td>0</td>\n",
              "      <td>0</td>\n",
              "      <td>1</td>\n",
              "      <td>0</td>\n",
              "      <td>0</td>\n",
              "      <td>0</td>\n",
              "      <td>0</td>\n",
              "      <td>1</td>\n",
              "      <td>0</td>\n",
              "    </tr>\n",
              "    <tr>\n",
              "      <th>3</th>\n",
              "      <td>1</td>\n",
              "      <td>1</td>\n",
              "      <td>1</td>\n",
              "      <td>0</td>\n",
              "      <td>1</td>\n",
              "      <td>0</td>\n",
              "      <td>0</td>\n",
              "      <td>0</td>\n",
              "      <td>1</td>\n",
              "      <td>0</td>\n",
              "      <td>...</td>\n",
              "      <td>1</td>\n",
              "      <td>0</td>\n",
              "      <td>0</td>\n",
              "      <td>1</td>\n",
              "      <td>0</td>\n",
              "      <td>0</td>\n",
              "      <td>0</td>\n",
              "      <td>0</td>\n",
              "      <td>0</td>\n",
              "      <td>1</td>\n",
              "    </tr>\n",
              "    <tr>\n",
              "      <th>4</th>\n",
              "      <td>1</td>\n",
              "      <td>0</td>\n",
              "      <td>1</td>\n",
              "      <td>1</td>\n",
              "      <td>1</td>\n",
              "      <td>0</td>\n",
              "      <td>0</td>\n",
              "      <td>0</td>\n",
              "      <td>1</td>\n",
              "      <td>0</td>\n",
              "      <td>...</td>\n",
              "      <td>0</td>\n",
              "      <td>0</td>\n",
              "      <td>1</td>\n",
              "      <td>0</td>\n",
              "      <td>0</td>\n",
              "      <td>1</td>\n",
              "      <td>0</td>\n",
              "      <td>1</td>\n",
              "      <td>0</td>\n",
              "      <td>0</td>\n",
              "    </tr>\n",
              "  </tbody>\n",
              "</table>\n",
              "<p>5 rows × 37 columns</p>\n",
              "</div>\n",
              "      <button class=\"colab-df-convert\" onclick=\"convertToInteractive('df-9279526f-ad3a-41d4-9764-81aa30703a5e')\"\n",
              "              title=\"Convert this dataframe to an interactive table.\"\n",
              "              style=\"display:none;\">\n",
              "        \n",
              "  <svg xmlns=\"http://www.w3.org/2000/svg\" height=\"24px\"viewBox=\"0 0 24 24\"\n",
              "       width=\"24px\">\n",
              "    <path d=\"M0 0h24v24H0V0z\" fill=\"none\"/>\n",
              "    <path d=\"M18.56 5.44l.94 2.06.94-2.06 2.06-.94-2.06-.94-.94-2.06-.94 2.06-2.06.94zm-11 1L8.5 8.5l.94-2.06 2.06-.94-2.06-.94L8.5 2.5l-.94 2.06-2.06.94zm10 10l.94 2.06.94-2.06 2.06-.94-2.06-.94-.94-2.06-.94 2.06-2.06.94z\"/><path d=\"M17.41 7.96l-1.37-1.37c-.4-.4-.92-.59-1.43-.59-.52 0-1.04.2-1.43.59L10.3 9.45l-7.72 7.72c-.78.78-.78 2.05 0 2.83L4 21.41c.39.39.9.59 1.41.59.51 0 1.02-.2 1.41-.59l7.78-7.78 2.81-2.81c.8-.78.8-2.07 0-2.86zM5.41 20L4 18.59l7.72-7.72 1.47 1.35L5.41 20z\"/>\n",
              "  </svg>\n",
              "      </button>\n",
              "      \n",
              "  <style>\n",
              "    .colab-df-container {\n",
              "      display:flex;\n",
              "      flex-wrap:wrap;\n",
              "      gap: 12px;\n",
              "    }\n",
              "\n",
              "    .colab-df-convert {\n",
              "      background-color: #E8F0FE;\n",
              "      border: none;\n",
              "      border-radius: 50%;\n",
              "      cursor: pointer;\n",
              "      display: none;\n",
              "      fill: #1967D2;\n",
              "      height: 32px;\n",
              "      padding: 0 0 0 0;\n",
              "      width: 32px;\n",
              "    }\n",
              "\n",
              "    .colab-df-convert:hover {\n",
              "      background-color: #E2EBFA;\n",
              "      box-shadow: 0px 1px 2px rgba(60, 64, 67, 0.3), 0px 1px 3px 1px rgba(60, 64, 67, 0.15);\n",
              "      fill: #174EA6;\n",
              "    }\n",
              "\n",
              "    [theme=dark] .colab-df-convert {\n",
              "      background-color: #3B4455;\n",
              "      fill: #D2E3FC;\n",
              "    }\n",
              "\n",
              "    [theme=dark] .colab-df-convert:hover {\n",
              "      background-color: #434B5C;\n",
              "      box-shadow: 0px 1px 3px 1px rgba(0, 0, 0, 0.15);\n",
              "      filter: drop-shadow(0px 1px 2px rgba(0, 0, 0, 0.3));\n",
              "      fill: #FFFFFF;\n",
              "    }\n",
              "  </style>\n",
              "\n",
              "      <script>\n",
              "        const buttonEl =\n",
              "          document.querySelector('#df-9279526f-ad3a-41d4-9764-81aa30703a5e button.colab-df-convert');\n",
              "        buttonEl.style.display =\n",
              "          google.colab.kernel.accessAllowed ? 'block' : 'none';\n",
              "\n",
              "        async function convertToInteractive(key) {\n",
              "          const element = document.querySelector('#df-9279526f-ad3a-41d4-9764-81aa30703a5e');\n",
              "          const dataTable =\n",
              "            await google.colab.kernel.invokeFunction('convertToInteractive',\n",
              "                                                     [key], {});\n",
              "          if (!dataTable) return;\n",
              "\n",
              "          const docLinkHtml = 'Like what you see? Visit the ' +\n",
              "            '<a target=\"_blank\" href=https://colab.research.google.com/notebooks/data_table.ipynb>data table notebook</a>'\n",
              "            + ' to learn more about interactive tables.';\n",
              "          element.innerHTML = '';\n",
              "          dataTable['output_type'] = 'display_data';\n",
              "          await google.colab.output.renderOutput(dataTable, element);\n",
              "          const docLink = document.createElement('div');\n",
              "          docLink.innerHTML = docLinkHtml;\n",
              "          element.appendChild(docLink);\n",
              "        }\n",
              "      </script>\n",
              "    </div>\n",
              "  </div>\n",
              "  "
            ]
          },
          "metadata": {},
          "execution_count": 14
        }
      ]
    },
    {
      "cell_type": "markdown",
      "source": [
        "Поделим выборку на train/valid и применим StandardScaler:"
      ],
      "metadata": {
        "id": "qNTseev3yyj3"
      }
    },
    {
      "cell_type": "code",
      "source": [
        "y = data['Churn']\n",
        "\n",
        "X_train, X_test, y_train, y_test = train_test_split(X, y.values,\n",
        "                                                    train_size=0.8,\n",
        "                                                    random_state=42)\n",
        "pca = StandardScaler()\n",
        "X_train = pca.fit_transform(X_train)\n",
        "X_test = pca.fit_transform(X_test)"
      ],
      "metadata": {
        "id": "DdFtoK7Mypvv"
      },
      "execution_count": null,
      "outputs": []
    },
    {
      "cell_type": "markdown",
      "source": [
        "Используем LogisticRegressionCV для подбора параметра:"
      ],
      "metadata": {
        "id": "GpJAFUOfzM6N"
      }
    },
    {
      "cell_type": "code",
      "source": [
        "lr = LogisticRegressionCV(Cs = [100, 10, 1, 0.1, 0.01, 0.001], scoring='roc_auc', refit=True)\n",
        "lr.fit(X_train, y_train)"
      ],
      "metadata": {
        "colab": {
          "base_uri": "https://localhost:8080/"
        },
        "id": "Hx2LIY_xzT-W",
        "outputId": "a0738c52-c57e-4465-ee69-c46604dff99a"
      },
      "execution_count": null,
      "outputs": [
        {
          "output_type": "execute_result",
          "data": {
            "text/plain": [
              "LogisticRegressionCV(Cs=[100, 10, 1, 0.1, 0.01, 0.001], scoring='roc_auc')"
            ]
          },
          "metadata": {},
          "execution_count": 16
        }
      ]
    },
    {
      "cell_type": "markdown",
      "source": [
        "Выведем лучший подобранный параметр и лучший roc_auc:"
      ],
      "metadata": {
        "id": "mZLCzU2i2AbD"
      }
    },
    {
      "cell_type": "code",
      "source": [
        "print(lr.C_)\n",
        "print(lr.scores_[1].max())"
      ],
      "metadata": {
        "colab": {
          "base_uri": "https://localhost:8080/"
        },
        "id": "1aBzskdN1R0D",
        "outputId": "baf8e303-c385-4617-c8b7-1d97e46c184e"
      },
      "execution_count": null,
      "outputs": [
        {
          "output_type": "stream",
          "name": "stdout",
          "text": [
            "[10.]\n",
            "0.8694171847808034\n"
          ]
        }
      ]
    },
    {
      "cell_type": "markdown",
      "source": [
        "Обучим модель с этим параметром и посмотрим на метрику roc-auc на обучающей и валидационной выборках:"
      ],
      "metadata": {
        "id": "QBGqh-lSBeT8"
      }
    },
    {
      "cell_type": "code",
      "source": [
        "from sklearn.metrics import roc_auc_score, roc_curve\n",
        "\n",
        "model = LogisticRegression(C=10.0, random_state=42)\n",
        "\n",
        "model.fit(X_train, y_train)\n",
        "y_train_predicted = model.predict_proba(X_train)[:, 1]\n",
        "y_test_predicted = model.predict_proba(X_test)[:, 1]\n",
        "\n",
        "train_auc = roc_auc_score(y_train, y_train_predicted)\n",
        "test_auc = roc_auc_score(y_test, y_test_predicted)\n",
        "plt.figure(figsize=(10,7))\n",
        "plt.plot(*roc_curve(y_train, y_train_predicted)[:2], label='train AUC={:.4f}'.format(train_auc))\n",
        "plt.plot(*roc_curve(y_test, y_test_predicted)[:2], label='test AUC={:.4f}'.format(test_auc))\n",
        "legend_box = plt.legend(fontsize='large', framealpha=1).get_frame()\n",
        "legend_box.set_facecolor(\"white\")\n",
        "legend_box.set_edgecolor(\"black\")\n",
        "plt.plot(np.linspace(0,1,100), np.linspace(0,1,100))\n",
        "plt.show()"
      ],
      "metadata": {
        "id": "0fZEc5EFBhLo",
        "colab": {
          "base_uri": "https://localhost:8080/",
          "height": 428
        },
        "outputId": "3d134301-7779-47ae-99ec-e0d33d7fec22"
      },
      "execution_count": null,
      "outputs": [
        {
          "output_type": "display_data",
          "data": {
            "text/plain": [
              "<Figure size 720x504 with 1 Axes>"
            ],
            "image/png": "[encoded data removed]"
          },
          "metadata": {
            "needs_background": "light"
          }
        }
      ]
    },
    {
      "cell_type": "markdown",
      "source": [
        "При параметре C = 10 AUC на обучающей и на тестовой выборке очень близки: 0.8498 и 0.8437, соответственно"
      ],
      "metadata": {
        "id": "DGmSu951ZY4B"
      }
    },
    {
      "cell_type": "markdown",
      "metadata": {
        "id": "BlTeVy7fEEZR"
      },
      "source": [
        "## Применение градиентного бустинга (2 балла)\n",
        "\n",
        "Если вы хотите получить баллы за точный ответ, то стоит попробовать градиентный бустинг. Часто градиентный бустинг с дефолтными параметрами даст вам 80% результата за 0% усилий.\n",
        "\n",
        "Мы будем использовать catboost, поэтому нам не надо кодировать категориальные признаки. catboost сделает это сам (в .fit() надо передать cat_features=cat_cols). А численные признаки нормировать для моделей, основанных на деревьях не нужно.\n",
        "\n",
        "1) Разделите выборку на train/valid. Протестируйте catboost cо стандартными параметрами.\n",
        "\n",
        "2) Протестируйте разные занчения параметров количества деревьев и learning_rate'а и выберите лучшую по метрике ROC-AUC комбинацию.\n",
        "\n",
        "(Дополнительно) Есть некоторые сложности с тем, чтобы использовать CatBoostClassifier вместе с GridSearchCV, поэтому мы не просим использовать кроссвалидацию. Но можете попробовать)"
      ]
    },
    {
      "cell_type": "code",
      "metadata": {
        "id": "Fioxxlp-EEZS"
      },
      "source": [
        "#!pip install catboost\n",
        "import catboost"
      ],
      "execution_count": null,
      "outputs": []
    },
    {
      "cell_type": "markdown",
      "source": [
        "Разделим выборку и протестируем catboost со стандартными параметрами:"
      ],
      "metadata": {
        "id": "VDhWpGlgF-SJ"
      }
    },
    {
      "cell_type": "code",
      "source": [
        "X_origin = data.iloc[:, :-1]\n",
        "y = data['Churn']\n",
        "X_train1, X_test1, y_train1, y_test1 = train_test_split(X_origin, y.values,\n",
        "                                                    train_size=0.8,\n",
        "                                                    random_state=42)\n",
        "\n",
        "boosting_model = catboost.CatBoostClassifier(cat_features=cat_cols,\n",
        "                                             random_state = 42,\n",
        "                                             verbose=False)\n",
        "boosting_model.fit(X_train1, y_train1)\n",
        "\n",
        "y_train_predicted = boosting_model.predict_proba(X_train1)[:, 1]\n",
        "y_test_predicted = boosting_model.predict_proba(X_test1)[:, 1]"
      ],
      "metadata": {
        "id": "uj7o6wpQ53YR"
      },
      "execution_count": null,
      "outputs": []
    },
    {
      "cell_type": "markdown",
      "source": [
        "Выведем AUC на тестовой и валидационной выборках:"
      ],
      "metadata": {
        "id": "iVOfKw_xxZvi"
      }
    },
    {
      "cell_type": "code",
      "source": [
        "train_auc = roc_auc_score(y_train, y_train_predicted)\n",
        "test_auc = roc_auc_score(y_test, y_test_predicted)\n",
        "\n",
        "plt.figure(figsize=(10,7))\n",
        "plt.plot(*roc_curve(y_train, y_train_predicted)[:2], label='train AUC={:.4f}'.format(train_auc))\n",
        "plt.plot(*roc_curve(y_test, y_test_predicted)[:2], label='test AUC={:.4f}'.format(test_auc))\n",
        "legend_box = plt.legend(fontsize='large', framealpha=1).get_frame()\n",
        "legend_box.set_facecolor(\"white\")\n",
        "legend_box.set_edgecolor(\"black\")\n",
        "plt.plot(np.linspace(0,1,100), np.linspace(0,1,100))\n",
        "plt.show()"
      ],
      "metadata": {
        "id": "SwU4jdo0Cat5",
        "colab": {
          "base_uri": "https://localhost:8080/",
          "height": 428
        },
        "outputId": "3f65df99-497f-4f0e-9b46-c62a5d7ebe1e"
      },
      "execution_count": null,
      "outputs": [
        {
          "output_type": "display_data",
          "data": {
            "text/plain": [
              "<Figure size 720x504 with 1 Axes>"
            ],
            "image/png": "[encoded data removed]"
          },
          "metadata": {
            "needs_background": "light"
          }
        }
      ]
    },
    {
      "cell_type": "markdown",
      "metadata": {
        "id": "rf4Kjt96EEZU"
      },
      "source": [
        "При стандартных параметрах (learning rate = 0.083), AUC для тестовой выборки составил 0.8916 для тестовой = 0.8417"
      ]
    },
    {
      "cell_type": "markdown",
      "source": [
        "Попробуем использовать grid_search для подбора лучшего значения параметров learning rate, depth (глубины деревьев) и l2_leaf_reg"
      ],
      "metadata": {
        "id": "2uinRGokIub0"
      }
    },
    {
      "cell_type": "code",
      "source": [
        "boosting_model = catboost.CatBoostClassifier(cat_features=cat_cols,\n",
        "                                             eval_metric='AUC:hints=skip_train~false',\n",
        "                                             random_seed = 42,\n",
        "                                             logging_level='Silent')\n",
        "\n",
        "grid = {'learning_rate': [0.08, 0.09, 0.1, 0.11, 0.12],\n",
        "        'depth': [3, 4, 5],\n",
        "        'l2_leaf_reg': [3, 4, 5],\n",
        "        'iterations' : [50, 100, 200, 300]}\n",
        "\n",
        "gr = boosting_model.grid_search(grid,\n",
        "                           X_train1,\n",
        "                           y_train1,\n",
        "                           refit=True,\n",
        "                           verbose=False)"
      ],
      "metadata": {
        "id": "6kCNwcKZJBrb"
      },
      "execution_count": null,
      "outputs": []
    },
    {
      "cell_type": "markdown",
      "source": [
        "Grid_search подбрал такие параметры:"
      ],
      "metadata": {
        "id": "Hhx1CdDWNhrG"
      }
    },
    {
      "cell_type": "code",
      "source": [
        "print(gr['params'])"
      ],
      "metadata": {
        "colab": {
          "base_uri": "https://localhost:8080/"
        },
        "id": "V3STVmukxwyi",
        "outputId": "14e75a59-6658-427c-e11f-a45b5bbf32d6"
      },
      "execution_count": null,
      "outputs": [
        {
          "output_type": "stream",
          "name": "stdout",
          "text": [
            "{'depth': 4, 'l2_leaf_reg': 4, 'iterations': 200, 'learning_rate': 0.1}\n"
          ]
        }
      ]
    },
    {
      "cell_type": "markdown",
      "source": [
        "Построим модель с ними:"
      ],
      "metadata": {
        "id": "1Kvepzpuz8Wa"
      }
    },
    {
      "cell_type": "code",
      "source": [
        "boosting_model = catboost.CatBoostClassifier(iterations=200,\n",
        "                                             cat_features=cat_cols,\n",
        "                                             depth = 4,\n",
        "                                             l2_leaf_reg = 4,\n",
        "                                             learning_rate = 0.1,\n",
        "                                             random_state = 42,\n",
        "                                             silent = True)\n",
        "boosting_model.fit(X_train1, y_train1)\n",
        "\n",
        "y_train_predicted = boosting_model.predict_proba(X_train1)[:, 1]\n",
        "y_test_predicted = boosting_model.predict_proba(X_test1)[:, 1]\n",
        "\n",
        "train_auc = roc_auc_score(y_train, y_train_predicted)\n",
        "test_auc = roc_auc_score(y_test, y_test_predicted)\n",
        "\n",
        "plt.figure(figsize=(10,7))\n",
        "plt.plot(*roc_curve(y_train, y_train_predicted)[:2], label='train AUC={:.4f}'.format(train_auc))\n",
        "plt.plot(*roc_curve(y_test, y_test_predicted)[:2], label='test AUC={:.4f}'.format(test_auc))\n",
        "legend_box = plt.legend(fontsize='large', framealpha=1).get_frame()\n",
        "legend_box.set_facecolor(\"white\")\n",
        "legend_box.set_edgecolor(\"black\")\n",
        "plt.plot(np.linspace(0,1,100), np.linspace(0,1,100))\n",
        "plt.show()\n",
        "None"
      ],
      "metadata": {
        "colab": {
          "base_uri": "https://localhost:8080/",
          "height": 428
        },
        "id": "Qc0yGiBPPeue",
        "outputId": "9ecd3336-07a7-4d7f-f77f-6ec2daf8b852"
      },
      "execution_count": null,
      "outputs": [
        {
          "output_type": "display_data",
          "data": {
            "text/plain": [
              "<Figure size 720x504 with 1 Axes>"
            ],
            "image/png": "[encoded data removed]"
          },
          "metadata": {
            "needs_background": "light"
          }
        }
      ]
    },
    {
      "cell_type": "markdown",
      "source": [
        "AUC на обучающей выборке упал, но на тестовой вырос: с 0.8417 до 0.8444"
      ],
      "metadata": {
        "id": "2jadeRh2P15Z"
      }
    },
    {
      "cell_type": "markdown",
      "metadata": {
        "id": "dDMXbvNZEEZV"
      },
      "source": [
        "# Предсказания"
      ]
    },
    {
      "cell_type": "code",
      "metadata": {
        "id": "G_P4wFNaEEZW"
      },
      "source": [
        "best_model = boosting_model"
      ],
      "execution_count": null,
      "outputs": []
    },
    {
      "cell_type": "code",
      "metadata": {
        "id": "FfSufx0CEEZZ"
      },
      "source": [
        "X_test = pd.read_csv('./test.csv')\n",
        "submission = pd.read_csv('./submission.csv')\n",
        "\n",
        "submission['Churn'] = best_model.predict_proba(X_test)[:, 1]\n",
        "submission.to_csv('./my_submission.csv', index=False)"
      ],
      "execution_count": null,
      "outputs": []
    },
    {
      "cell_type": "markdown",
      "metadata": {
        "id": "mkxjbGkVEEZc"
      },
      "source": [
        "# Kaggle (5 баллов)\n",
        "\n",
        "Как выставить баллы:\n",
        "\n",
        "1) 1 >= roc auc > 0.84 это 5 баллов\n",
        "\n",
        "2) 0.84 >= roc auc > 0.7 это 3 балла\n",
        "\n",
        "3) 0.7 >= roc auc > 0.6 это 1 балл\n",
        "\n",
        "4) 0.6 >= roc auc это 0 баллов"
      ]
    },
    {
      "cell_type": "markdown",
      "source": [
        "Мой скор на kaggle: 0.85101"
      ],
      "metadata": {
        "id": "e-zhZA5hweCa"
      }
    }
  ]
}